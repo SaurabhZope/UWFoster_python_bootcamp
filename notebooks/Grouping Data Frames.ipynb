{
 "cells": [
  {
   "cell_type": "markdown",
   "metadata": {},
   "source": [
    "## Groupby: Understanding grouping in pandas dataframes\n",
    "Let's say we need some summary statistics for each type of iris in our iris dataset. We can use pandas to group our data by flower class, so that we can then apply calculations and functions to each iris class as a set. \n",
    "\n",
    "This would allow us to ask questions like: \n",
    "- What is the average petal size for each iris class? \n",
    "- What is the longest petal width for Iris setosa? \n",
    "- What is the correlation between length and width for each class? \n",
    "\n",
    "### Summary stats\n",
    "Here's a quick summary of some of the most common group stats available to us: \n",
    "\n",
    "<img src=\"pandas_stats.png\" align=\"left\">"
   ]
  },
  {
   "cell_type": "code",
   "execution_count": 18,
   "metadata": {},
   "outputs": [],
   "source": [
    "import pandas as pd\n",
    "\n",
    "# url to get file from\n",
    "url = \"http://mlr.cs.umass.edu/ml/machine-learning-databases/iris/iris.data\"\n",
    "\n",
    "# read the file into a dataframe\n",
    "iris = pd.read_csv(url, \n",
    "                   header=0, \n",
    "                   names=['SepalLength', 'SepalWidth', 'PetalLength', 'PetalWidth', 'Class'])"
   ]
  },
  {
   "cell_type": "code",
   "execution_count": 12,
   "metadata": {},
   "outputs": [
    {
     "data": {
      "text/html": [
       "<div>\n",
       "<style scoped>\n",
       "    .dataframe tbody tr th:only-of-type {\n",
       "        vertical-align: middle;\n",
       "    }\n",
       "\n",
       "    .dataframe tbody tr th {\n",
       "        vertical-align: top;\n",
       "    }\n",
       "\n",
       "    .dataframe thead th {\n",
       "        text-align: right;\n",
       "    }\n",
       "</style>\n",
       "<table border=\"1\" class=\"dataframe\">\n",
       "  <thead>\n",
       "    <tr style=\"text-align: right;\">\n",
       "      <th></th>\n",
       "      <th>SepalLength</th>\n",
       "      <th>SepalWidth</th>\n",
       "      <th>PetalLength</th>\n",
       "      <th>PetalWidth</th>\n",
       "      <th>Class</th>\n",
       "    </tr>\n",
       "  </thead>\n",
       "  <tbody>\n",
       "    <tr>\n",
       "      <th>0</th>\n",
       "      <td>5.1</td>\n",
       "      <td>3.5</td>\n",
       "      <td>1.4</td>\n",
       "      <td>0.2</td>\n",
       "      <td>Iris-setosa</td>\n",
       "    </tr>\n",
       "    <tr>\n",
       "      <th>1</th>\n",
       "      <td>4.9</td>\n",
       "      <td>3.0</td>\n",
       "      <td>1.4</td>\n",
       "      <td>0.2</td>\n",
       "      <td>Iris-setosa</td>\n",
       "    </tr>\n",
       "    <tr>\n",
       "      <th>2</th>\n",
       "      <td>4.7</td>\n",
       "      <td>3.2</td>\n",
       "      <td>1.3</td>\n",
       "      <td>0.2</td>\n",
       "      <td>Iris-setosa</td>\n",
       "    </tr>\n",
       "    <tr>\n",
       "      <th>3</th>\n",
       "      <td>4.6</td>\n",
       "      <td>3.1</td>\n",
       "      <td>1.5</td>\n",
       "      <td>0.2</td>\n",
       "      <td>Iris-setosa</td>\n",
       "    </tr>\n",
       "    <tr>\n",
       "      <th>4</th>\n",
       "      <td>5.0</td>\n",
       "      <td>3.6</td>\n",
       "      <td>1.4</td>\n",
       "      <td>0.2</td>\n",
       "      <td>Iris-setosa</td>\n",
       "    </tr>\n",
       "  </tbody>\n",
       "</table>\n",
       "</div>"
      ],
      "text/plain": [
       "   SepalLength  SepalWidth  PetalLength  PetalWidth        Class\n",
       "0          5.1         3.5          1.4         0.2  Iris-setosa\n",
       "1          4.9         3.0          1.4         0.2  Iris-setosa\n",
       "2          4.7         3.2          1.3         0.2  Iris-setosa\n",
       "3          4.6         3.1          1.5         0.2  Iris-setosa\n",
       "4          5.0         3.6          1.4         0.2  Iris-setosa"
      ]
     },
     "execution_count": 12,
     "metadata": {},
     "output_type": "execute_result"
    }
   ],
   "source": [
    "iris."
   ]
  },
  {
   "cell_type": "markdown",
   "metadata": {},
   "source": [
    "### Grouping Data\n",
    "Let's say we want to find out the average petal width for Iris-setosa. \n",
    "\n",
    "First we will need to group our data together by the class column."
   ]
  },
  {
   "cell_type": "code",
   "execution_count": 2,
   "metadata": {},
   "outputs": [],
   "source": [
    "iris_classes = iris.groupby(\"Class\")"
   ]
  },
  {
   "cell_type": "markdown",
   "metadata": {},
   "source": [
    "This gives us a groupby object: "
   ]
  },
  {
   "cell_type": "code",
   "execution_count": 3,
   "metadata": {},
   "outputs": [
    {
     "data": {
      "text/plain": [
       "<pandas.core.groupby.DataFrameGroupBy object at 0x11237e908>"
      ]
     },
     "execution_count": 3,
     "metadata": {},
     "output_type": "execute_result"
    }
   ],
   "source": [
    "iris_classes"
   ]
  },
  {
   "cell_type": "markdown",
   "metadata": {},
   "source": [
    "## Viewing Groupby Information"
   ]
  },
  {
   "cell_type": "markdown",
   "metadata": {},
   "source": [
    "We can iterate through group name and group to access the values: "
   ]
  },
  {
   "cell_type": "code",
   "execution_count": 21,
   "metadata": {},
   "outputs": [
    {
     "data": {
      "text/plain": [
       "[('Iris-setosa',\n",
       "      SepalLength  SepalWidth  PetalLength  PetalWidth        Class\n",
       "  0           5.1         3.5          1.4         0.2  Iris-setosa\n",
       "  1           4.9         3.0          1.4         0.2  Iris-setosa\n",
       "  2           4.7         3.2          1.3         0.2  Iris-setosa\n",
       "  3           4.6         3.1          1.5         0.2  Iris-setosa\n",
       "  4           5.0         3.6          1.4         0.2  Iris-setosa\n",
       "  5           5.4         3.9          1.7         0.4  Iris-setosa\n",
       "  6           4.6         3.4          1.4         0.3  Iris-setosa\n",
       "  7           5.0         3.4          1.5         0.2  Iris-setosa\n",
       "  8           4.4         2.9          1.4         0.2  Iris-setosa\n",
       "  9           4.9         3.1          1.5         0.1  Iris-setosa\n",
       "  10          5.4         3.7          1.5         0.2  Iris-setosa\n",
       "  11          4.8         3.4          1.6         0.2  Iris-setosa\n",
       "  12          4.8         3.0          1.4         0.1  Iris-setosa\n",
       "  13          4.3         3.0          1.1         0.1  Iris-setosa\n",
       "  14          5.8         4.0          1.2         0.2  Iris-setosa\n",
       "  15          5.7         4.4          1.5         0.4  Iris-setosa\n",
       "  16          5.4         3.9          1.3         0.4  Iris-setosa\n",
       "  17          5.1         3.5          1.4         0.3  Iris-setosa\n",
       "  18          5.7         3.8          1.7         0.3  Iris-setosa\n",
       "  19          5.1         3.8          1.5         0.3  Iris-setosa\n",
       "  20          5.4         3.4          1.7         0.2  Iris-setosa\n",
       "  21          5.1         3.7          1.5         0.4  Iris-setosa\n",
       "  22          4.6         3.6          1.0         0.2  Iris-setosa\n",
       "  23          5.1         3.3          1.7         0.5  Iris-setosa\n",
       "  24          4.8         3.4          1.9         0.2  Iris-setosa\n",
       "  25          5.0         3.0          1.6         0.2  Iris-setosa\n",
       "  26          5.0         3.4          1.6         0.4  Iris-setosa\n",
       "  27          5.2         3.5          1.5         0.2  Iris-setosa\n",
       "  28          5.2         3.4          1.4         0.2  Iris-setosa\n",
       "  29          4.7         3.2          1.6         0.2  Iris-setosa\n",
       "  30          4.8         3.1          1.6         0.2  Iris-setosa\n",
       "  31          5.4         3.4          1.5         0.4  Iris-setosa\n",
       "  32          5.2         4.1          1.5         0.1  Iris-setosa\n",
       "  33          5.5         4.2          1.4         0.2  Iris-setosa\n",
       "  34          4.9         3.1          1.5         0.1  Iris-setosa\n",
       "  35          5.0         3.2          1.2         0.2  Iris-setosa\n",
       "  36          5.5         3.5          1.3         0.2  Iris-setosa\n",
       "  37          4.9         3.1          1.5         0.1  Iris-setosa\n",
       "  38          4.4         3.0          1.3         0.2  Iris-setosa\n",
       "  39          5.1         3.4          1.5         0.2  Iris-setosa\n",
       "  40          5.0         3.5          1.3         0.3  Iris-setosa\n",
       "  41          4.5         2.3          1.3         0.3  Iris-setosa\n",
       "  42          4.4         3.2          1.3         0.2  Iris-setosa\n",
       "  43          5.0         3.5          1.6         0.6  Iris-setosa\n",
       "  44          5.1         3.8          1.9         0.4  Iris-setosa\n",
       "  45          4.8         3.0          1.4         0.3  Iris-setosa\n",
       "  46          5.1         3.8          1.6         0.2  Iris-setosa\n",
       "  47          4.6         3.2          1.4         0.2  Iris-setosa\n",
       "  48          5.3         3.7          1.5         0.2  Iris-setosa\n",
       "  49          5.0         3.3          1.4         0.2  Iris-setosa),\n",
       " ('Iris-versicolor',\n",
       "      SepalLength  SepalWidth  PetalLength  PetalWidth            Class\n",
       "  50          7.0         3.2          4.7         1.4  Iris-versicolor\n",
       "  51          6.4         3.2          4.5         1.5  Iris-versicolor\n",
       "  52          6.9         3.1          4.9         1.5  Iris-versicolor\n",
       "  53          5.5         2.3          4.0         1.3  Iris-versicolor\n",
       "  54          6.5         2.8          4.6         1.5  Iris-versicolor\n",
       "  55          5.7         2.8          4.5         1.3  Iris-versicolor\n",
       "  56          6.3         3.3          4.7         1.6  Iris-versicolor\n",
       "  57          4.9         2.4          3.3         1.0  Iris-versicolor\n",
       "  58          6.6         2.9          4.6         1.3  Iris-versicolor\n",
       "  59          5.2         2.7          3.9         1.4  Iris-versicolor\n",
       "  60          5.0         2.0          3.5         1.0  Iris-versicolor\n",
       "  61          5.9         3.0          4.2         1.5  Iris-versicolor\n",
       "  62          6.0         2.2          4.0         1.0  Iris-versicolor\n",
       "  63          6.1         2.9          4.7         1.4  Iris-versicolor\n",
       "  64          5.6         2.9          3.6         1.3  Iris-versicolor\n",
       "  65          6.7         3.1          4.4         1.4  Iris-versicolor\n",
       "  66          5.6         3.0          4.5         1.5  Iris-versicolor\n",
       "  67          5.8         2.7          4.1         1.0  Iris-versicolor\n",
       "  68          6.2         2.2          4.5         1.5  Iris-versicolor\n",
       "  69          5.6         2.5          3.9         1.1  Iris-versicolor\n",
       "  70          5.9         3.2          4.8         1.8  Iris-versicolor\n",
       "  71          6.1         2.8          4.0         1.3  Iris-versicolor\n",
       "  72          6.3         2.5          4.9         1.5  Iris-versicolor\n",
       "  73          6.1         2.8          4.7         1.2  Iris-versicolor\n",
       "  74          6.4         2.9          4.3         1.3  Iris-versicolor\n",
       "  75          6.6         3.0          4.4         1.4  Iris-versicolor\n",
       "  76          6.8         2.8          4.8         1.4  Iris-versicolor\n",
       "  77          6.7         3.0          5.0         1.7  Iris-versicolor\n",
       "  78          6.0         2.9          4.5         1.5  Iris-versicolor\n",
       "  79          5.7         2.6          3.5         1.0  Iris-versicolor\n",
       "  80          5.5         2.4          3.8         1.1  Iris-versicolor\n",
       "  81          5.5         2.4          3.7         1.0  Iris-versicolor\n",
       "  82          5.8         2.7          3.9         1.2  Iris-versicolor\n",
       "  83          6.0         2.7          5.1         1.6  Iris-versicolor\n",
       "  84          5.4         3.0          4.5         1.5  Iris-versicolor\n",
       "  85          6.0         3.4          4.5         1.6  Iris-versicolor\n",
       "  86          6.7         3.1          4.7         1.5  Iris-versicolor\n",
       "  87          6.3         2.3          4.4         1.3  Iris-versicolor\n",
       "  88          5.6         3.0          4.1         1.3  Iris-versicolor\n",
       "  89          5.5         2.5          4.0         1.3  Iris-versicolor\n",
       "  90          5.5         2.6          4.4         1.2  Iris-versicolor\n",
       "  91          6.1         3.0          4.6         1.4  Iris-versicolor\n",
       "  92          5.8         2.6          4.0         1.2  Iris-versicolor\n",
       "  93          5.0         2.3          3.3         1.0  Iris-versicolor\n",
       "  94          5.6         2.7          4.2         1.3  Iris-versicolor\n",
       "  95          5.7         3.0          4.2         1.2  Iris-versicolor\n",
       "  96          5.7         2.9          4.2         1.3  Iris-versicolor\n",
       "  97          6.2         2.9          4.3         1.3  Iris-versicolor\n",
       "  98          5.1         2.5          3.0         1.1  Iris-versicolor\n",
       "  99          5.7         2.8          4.1         1.3  Iris-versicolor),\n",
       " ('Iris-virginica',\n",
       "       SepalLength  SepalWidth  PetalLength  PetalWidth           Class\n",
       "  100          6.3         3.3          6.0         2.5  Iris-virginica\n",
       "  101          5.8         2.7          5.1         1.9  Iris-virginica\n",
       "  102          7.1         3.0          5.9         2.1  Iris-virginica\n",
       "  103          6.3         2.9          5.6         1.8  Iris-virginica\n",
       "  104          6.5         3.0          5.8         2.2  Iris-virginica\n",
       "  105          7.6         3.0          6.6         2.1  Iris-virginica\n",
       "  106          4.9         2.5          4.5         1.7  Iris-virginica\n",
       "  107          7.3         2.9          6.3         1.8  Iris-virginica\n",
       "  108          6.7         2.5          5.8         1.8  Iris-virginica\n",
       "  109          7.2         3.6          6.1         2.5  Iris-virginica\n",
       "  110          6.5         3.2          5.1         2.0  Iris-virginica\n",
       "  111          6.4         2.7          5.3         1.9  Iris-virginica\n",
       "  112          6.8         3.0          5.5         2.1  Iris-virginica\n",
       "  113          5.7         2.5          5.0         2.0  Iris-virginica\n",
       "  114          5.8         2.8          5.1         2.4  Iris-virginica\n",
       "  115          6.4         3.2          5.3         2.3  Iris-virginica\n",
       "  116          6.5         3.0          5.5         1.8  Iris-virginica\n",
       "  117          7.7         3.8          6.7         2.2  Iris-virginica\n",
       "  118          7.7         2.6          6.9         2.3  Iris-virginica\n",
       "  119          6.0         2.2          5.0         1.5  Iris-virginica\n",
       "  120          6.9         3.2          5.7         2.3  Iris-virginica\n",
       "  121          5.6         2.8          4.9         2.0  Iris-virginica\n",
       "  122          7.7         2.8          6.7         2.0  Iris-virginica\n",
       "  123          6.3         2.7          4.9         1.8  Iris-virginica\n",
       "  124          6.7         3.3          5.7         2.1  Iris-virginica\n",
       "  125          7.2         3.2          6.0         1.8  Iris-virginica\n",
       "  126          6.2         2.8          4.8         1.8  Iris-virginica\n",
       "  127          6.1         3.0          4.9         1.8  Iris-virginica\n",
       "  128          6.4         2.8          5.6         2.1  Iris-virginica\n",
       "  129          7.2         3.0          5.8         1.6  Iris-virginica\n",
       "  130          7.4         2.8          6.1         1.9  Iris-virginica\n",
       "  131          7.9         3.8          6.4         2.0  Iris-virginica\n",
       "  132          6.4         2.8          5.6         2.2  Iris-virginica\n",
       "  133          6.3         2.8          5.1         1.5  Iris-virginica\n",
       "  134          6.1         2.6          5.6         1.4  Iris-virginica\n",
       "  135          7.7         3.0          6.1         2.3  Iris-virginica\n",
       "  136          6.3         3.4          5.6         2.4  Iris-virginica\n",
       "  137          6.4         3.1          5.5         1.8  Iris-virginica\n",
       "  138          6.0         3.0          4.8         1.8  Iris-virginica\n",
       "  139          6.9         3.1          5.4         2.1  Iris-virginica\n",
       "  140          6.7         3.1          5.6         2.4  Iris-virginica\n",
       "  141          6.9         3.1          5.1         2.3  Iris-virginica\n",
       "  142          5.8         2.7          5.1         1.9  Iris-virginica\n",
       "  143          6.8         3.2          5.9         2.3  Iris-virginica\n",
       "  144          6.7         3.3          5.7         2.5  Iris-virginica\n",
       "  145          6.7         3.0          5.2         2.3  Iris-virginica\n",
       "  146          6.3         2.5          5.0         1.9  Iris-virginica\n",
       "  147          6.5         3.0          5.2         2.0  Iris-virginica\n",
       "  148          6.2         3.4          5.4         2.3  Iris-virginica\n",
       "  149          5.9         3.0          5.1         1.8  Iris-virginica)]"
      ]
     },
     "execution_count": 21,
     "metadata": {},
     "output_type": "execute_result"
    }
   ],
   "source": [
    "list(iris_classes)"
   ]
  },
  {
   "cell_type": "markdown",
   "metadata": {},
   "source": [
    "### View Summary Stats"
   ]
  },
  {
   "cell_type": "code",
   "execution_count": 23,
   "metadata": {},
   "outputs": [
    {
     "data": {
      "text/html": [
       "<div>\n",
       "<style scoped>\n",
       "    .dataframe tbody tr th:only-of-type {\n",
       "        vertical-align: middle;\n",
       "    }\n",
       "\n",
       "    .dataframe tbody tr th {\n",
       "        vertical-align: top;\n",
       "    }\n",
       "\n",
       "    .dataframe thead tr th {\n",
       "        text-align: left;\n",
       "    }\n",
       "\n",
       "    .dataframe thead tr:last-of-type th {\n",
       "        text-align: right;\n",
       "    }\n",
       "</style>\n",
       "<table border=\"1\" class=\"dataframe\">\n",
       "  <thead>\n",
       "    <tr>\n",
       "      <th></th>\n",
       "      <th colspan=\"8\" halign=\"left\">PetalLength</th>\n",
       "      <th colspan=\"2\" halign=\"left\">PetalWidth</th>\n",
       "      <th>...</th>\n",
       "      <th colspan=\"2\" halign=\"left\">SepalLength</th>\n",
       "      <th colspan=\"8\" halign=\"left\">SepalWidth</th>\n",
       "    </tr>\n",
       "    <tr>\n",
       "      <th></th>\n",
       "      <th>count</th>\n",
       "      <th>mean</th>\n",
       "      <th>std</th>\n",
       "      <th>min</th>\n",
       "      <th>25%</th>\n",
       "      <th>50%</th>\n",
       "      <th>75%</th>\n",
       "      <th>max</th>\n",
       "      <th>count</th>\n",
       "      <th>mean</th>\n",
       "      <th>...</th>\n",
       "      <th>75%</th>\n",
       "      <th>max</th>\n",
       "      <th>count</th>\n",
       "      <th>mean</th>\n",
       "      <th>std</th>\n",
       "      <th>min</th>\n",
       "      <th>25%</th>\n",
       "      <th>50%</th>\n",
       "      <th>75%</th>\n",
       "      <th>max</th>\n",
       "    </tr>\n",
       "    <tr>\n",
       "      <th>Class</th>\n",
       "      <th></th>\n",
       "      <th></th>\n",
       "      <th></th>\n",
       "      <th></th>\n",
       "      <th></th>\n",
       "      <th></th>\n",
       "      <th></th>\n",
       "      <th></th>\n",
       "      <th></th>\n",
       "      <th></th>\n",
       "      <th></th>\n",
       "      <th></th>\n",
       "      <th></th>\n",
       "      <th></th>\n",
       "      <th></th>\n",
       "      <th></th>\n",
       "      <th></th>\n",
       "      <th></th>\n",
       "      <th></th>\n",
       "      <th></th>\n",
       "      <th></th>\n",
       "    </tr>\n",
       "  </thead>\n",
       "  <tbody>\n",
       "    <tr>\n",
       "      <th>Iris-setosa</th>\n",
       "      <td>50.0</td>\n",
       "      <td>1.464</td>\n",
       "      <td>0.173511</td>\n",
       "      <td>1.0</td>\n",
       "      <td>1.4</td>\n",
       "      <td>1.50</td>\n",
       "      <td>1.575</td>\n",
       "      <td>1.9</td>\n",
       "      <td>50.0</td>\n",
       "      <td>0.244</td>\n",
       "      <td>...</td>\n",
       "      <td>5.2</td>\n",
       "      <td>5.8</td>\n",
       "      <td>50.0</td>\n",
       "      <td>3.418</td>\n",
       "      <td>0.381024</td>\n",
       "      <td>2.3</td>\n",
       "      <td>3.125</td>\n",
       "      <td>3.4</td>\n",
       "      <td>3.675</td>\n",
       "      <td>4.4</td>\n",
       "    </tr>\n",
       "    <tr>\n",
       "      <th>Iris-versicolor</th>\n",
       "      <td>50.0</td>\n",
       "      <td>4.260</td>\n",
       "      <td>0.469911</td>\n",
       "      <td>3.0</td>\n",
       "      <td>4.0</td>\n",
       "      <td>4.35</td>\n",
       "      <td>4.600</td>\n",
       "      <td>5.1</td>\n",
       "      <td>50.0</td>\n",
       "      <td>1.326</td>\n",
       "      <td>...</td>\n",
       "      <td>6.3</td>\n",
       "      <td>7.0</td>\n",
       "      <td>50.0</td>\n",
       "      <td>2.770</td>\n",
       "      <td>0.313798</td>\n",
       "      <td>2.0</td>\n",
       "      <td>2.525</td>\n",
       "      <td>2.8</td>\n",
       "      <td>3.000</td>\n",
       "      <td>3.4</td>\n",
       "    </tr>\n",
       "    <tr>\n",
       "      <th>Iris-virginica</th>\n",
       "      <td>50.0</td>\n",
       "      <td>5.552</td>\n",
       "      <td>0.551895</td>\n",
       "      <td>4.5</td>\n",
       "      <td>5.1</td>\n",
       "      <td>5.55</td>\n",
       "      <td>5.875</td>\n",
       "      <td>6.9</td>\n",
       "      <td>50.0</td>\n",
       "      <td>2.026</td>\n",
       "      <td>...</td>\n",
       "      <td>6.9</td>\n",
       "      <td>7.9</td>\n",
       "      <td>50.0</td>\n",
       "      <td>2.974</td>\n",
       "      <td>0.322497</td>\n",
       "      <td>2.2</td>\n",
       "      <td>2.800</td>\n",
       "      <td>3.0</td>\n",
       "      <td>3.175</td>\n",
       "      <td>3.8</td>\n",
       "    </tr>\n",
       "  </tbody>\n",
       "</table>\n",
       "<p>3 rows × 32 columns</p>\n",
       "</div>"
      ],
      "text/plain": [
       "                PetalLength                                               \\\n",
       "                      count   mean       std  min  25%   50%    75%  max   \n",
       "Class                                                                      \n",
       "Iris-setosa            50.0  1.464  0.173511  1.0  1.4  1.50  1.575  1.9   \n",
       "Iris-versicolor        50.0  4.260  0.469911  3.0  4.0  4.35  4.600  5.1   \n",
       "Iris-virginica         50.0  5.552  0.551895  4.5  5.1  5.55  5.875  6.9   \n",
       "\n",
       "                PetalWidth        ...  SepalLength      SepalWidth         \\\n",
       "                     count   mean ...          75%  max      count   mean   \n",
       "Class                             ...                                       \n",
       "Iris-setosa           50.0  0.244 ...          5.2  5.8       50.0  3.418   \n",
       "Iris-versicolor       50.0  1.326 ...          6.3  7.0       50.0  2.770   \n",
       "Iris-virginica        50.0  2.026 ...          6.9  7.9       50.0  2.974   \n",
       "\n",
       "                                                        \n",
       "                      std  min    25%  50%    75%  max  \n",
       "Class                                                   \n",
       "Iris-setosa      0.381024  2.3  3.125  3.4  3.675  4.4  \n",
       "Iris-versicolor  0.313798  2.0  2.525  2.8  3.000  3.4  \n",
       "Iris-virginica   0.322497  2.2  2.800  3.0  3.175  3.8  \n",
       "\n",
       "[3 rows x 32 columns]"
      ]
     },
     "execution_count": 23,
     "metadata": {},
     "output_type": "execute_result"
    }
   ],
   "source": [
    "iris_classes.describe()"
   ]
  },
  {
   "cell_type": "markdown",
   "metadata": {},
   "source": [
    "### Calculate summary stats on each group\n",
    "Now that we have a groupby object, we can calculate statistis on each flower class. "
   ]
  },
  {
   "cell_type": "code",
   "execution_count": 17,
   "metadata": {},
   "outputs": [
    {
     "data": {
      "text/plain": [
       "Class\n",
       "Iris-setosa        0.244\n",
       "Iris-versicolor    1.326\n",
       "Iris-virginica     2.026\n",
       "Name: PetalWidth, dtype: float64"
      ]
     },
     "execution_count": 17,
     "metadata": {},
     "output_type": "execute_result"
    }
   ],
   "source": [
    "# Apply mean function to PetalWidth column\n",
    "iris_classes['PetalWidth'].mean()"
   ]
  },
  {
   "cell_type": "markdown",
   "metadata": {},
   "source": [
    "How about finding the longest petal for each class? "
   ]
  },
  {
   "cell_type": "code",
   "execution_count": 18,
   "metadata": {},
   "outputs": [
    {
     "data": {
      "text/plain": [
       "Class\n",
       "Iris-setosa        1.9\n",
       "Iris-versicolor    5.1\n",
       "Iris-virginica     6.9\n",
       "Name: PetalLength, dtype: float64"
      ]
     },
     "execution_count": 18,
     "metadata": {},
     "output_type": "execute_result"
    }
   ],
   "source": [
    "iris_classes[\"PetalLength\"].max()"
   ]
  },
  {
   "cell_type": "markdown",
   "metadata": {},
   "source": [
    "How many are in each category? "
   ]
  },
  {
   "cell_type": "code",
   "execution_count": 25,
   "metadata": {},
   "outputs": [
    {
     "data": {
      "text/plain": [
       "Class\n",
       "Iris-setosa        50\n",
       "Iris-versicolor    50\n",
       "Iris-virginica     50\n",
       "dtype: int64"
      ]
     },
     "execution_count": 25,
     "metadata": {},
     "output_type": "execute_result"
    }
   ],
   "source": [
    "iris_classes.size()"
   ]
  },
  {
   "cell_type": "markdown",
   "metadata": {},
   "source": [
    "How many entries are in each column for every group? "
   ]
  },
  {
   "cell_type": "code",
   "execution_count": 19,
   "metadata": {},
   "outputs": [
    {
     "data": {
      "text/html": [
       "<div>\n",
       "<style scoped>\n",
       "    .dataframe tbody tr th:only-of-type {\n",
       "        vertical-align: middle;\n",
       "    }\n",
       "\n",
       "    .dataframe tbody tr th {\n",
       "        vertical-align: top;\n",
       "    }\n",
       "\n",
       "    .dataframe thead th {\n",
       "        text-align: right;\n",
       "    }\n",
       "</style>\n",
       "<table border=\"1\" class=\"dataframe\">\n",
       "  <thead>\n",
       "    <tr style=\"text-align: right;\">\n",
       "      <th></th>\n",
       "      <th>SepalLength</th>\n",
       "      <th>SepalWidth</th>\n",
       "      <th>PetalLength</th>\n",
       "      <th>PetalWidth</th>\n",
       "    </tr>\n",
       "    <tr>\n",
       "      <th>Class</th>\n",
       "      <th></th>\n",
       "      <th></th>\n",
       "      <th></th>\n",
       "      <th></th>\n",
       "    </tr>\n",
       "  </thead>\n",
       "  <tbody>\n",
       "    <tr>\n",
       "      <th>Iris-setosa</th>\n",
       "      <td>50</td>\n",
       "      <td>50</td>\n",
       "      <td>50</td>\n",
       "      <td>50</td>\n",
       "    </tr>\n",
       "    <tr>\n",
       "      <th>Iris-versicolor</th>\n",
       "      <td>50</td>\n",
       "      <td>50</td>\n",
       "      <td>50</td>\n",
       "      <td>50</td>\n",
       "    </tr>\n",
       "    <tr>\n",
       "      <th>Iris-virginica</th>\n",
       "      <td>50</td>\n",
       "      <td>50</td>\n",
       "      <td>50</td>\n",
       "      <td>50</td>\n",
       "    </tr>\n",
       "  </tbody>\n",
       "</table>\n",
       "</div>"
      ],
      "text/plain": [
       "                 SepalLength  SepalWidth  PetalLength  PetalWidth\n",
       "Class                                                            \n",
       "Iris-setosa               50          50           50          50\n",
       "Iris-versicolor           50          50           50          50\n",
       "Iris-virginica            50          50           50          50"
      ]
     },
     "execution_count": 19,
     "metadata": {},
     "output_type": "execute_result"
    }
   ],
   "source": [
    "iris_classes.count()"
   ]
  },
  {
   "cell_type": "markdown",
   "metadata": {},
   "source": [
    "## Applying Function to Groupby Groups\n",
    "We can apply function to each group using pandas apply() method: "
   ]
  },
  {
   "cell_type": "code",
   "execution_count": 26,
   "metadata": {},
   "outputs": [],
   "source": [
    "def get_stats(group):\n",
    "    return {'min': group.min(), \n",
    "            'max': group.max(), \n",
    "            'count': group.count(), \n",
    "            'mean': group.mean()}"
   ]
  },
  {
   "cell_type": "code",
   "execution_count": 27,
   "metadata": {},
   "outputs": [
    {
     "data": {
      "text/plain": [
       "Class\n",
       "Iris-setosa        {'min': [1.0, 0.1, 4.3, 2.3], 'max': [1.9, 0.6...\n",
       "Iris-versicolor    {'min': [3.0, 1.0, 4.9, 2.0], 'max': [5.1, 1.8...\n",
       "Iris-virginica     {'min': [4.5, 1.4, 4.9, 2.2], 'max': [6.9, 2.5...\n",
       "dtype: object"
      ]
     },
     "execution_count": 27,
     "metadata": {},
     "output_type": "execute_result"
    }
   ],
   "source": [
    "iris_classes.apply(get_stats)"
   ]
  },
  {
   "cell_type": "code",
   "execution_count": 4,
   "metadata": {},
   "outputs": [
    {
     "data": {
      "text/html": [
       "<div>\n",
       "<style scoped>\n",
       "    .dataframe tbody tr th:only-of-type {\n",
       "        vertical-align: middle;\n",
       "    }\n",
       "\n",
       "    .dataframe tbody tr th {\n",
       "        vertical-align: top;\n",
       "    }\n",
       "\n",
       "    .dataframe thead th {\n",
       "        text-align: right;\n",
       "    }\n",
       "</style>\n",
       "<table border=\"1\" class=\"dataframe\">\n",
       "  <thead>\n",
       "    <tr style=\"text-align: right;\">\n",
       "      <th></th>\n",
       "      <th>SepalLength</th>\n",
       "      <th>SepalWidth</th>\n",
       "      <th>PetalLength</th>\n",
       "      <th>PetalWidth</th>\n",
       "      <th>Class</th>\n",
       "    </tr>\n",
       "  </thead>\n",
       "  <tbody>\n",
       "    <tr>\n",
       "      <th>0</th>\n",
       "      <td>5.1</td>\n",
       "      <td>3.5</td>\n",
       "      <td>1.4</td>\n",
       "      <td>0.2</td>\n",
       "      <td>Iris-setosa</td>\n",
       "    </tr>\n",
       "    <tr>\n",
       "      <th>1</th>\n",
       "      <td>4.9</td>\n",
       "      <td>3.0</td>\n",
       "      <td>1.4</td>\n",
       "      <td>0.2</td>\n",
       "      <td>Iris-setosa</td>\n",
       "    </tr>\n",
       "    <tr>\n",
       "      <th>2</th>\n",
       "      <td>4.7</td>\n",
       "      <td>3.2</td>\n",
       "      <td>1.3</td>\n",
       "      <td>0.2</td>\n",
       "      <td>Iris-setosa</td>\n",
       "    </tr>\n",
       "    <tr>\n",
       "      <th>3</th>\n",
       "      <td>4.6</td>\n",
       "      <td>3.1</td>\n",
       "      <td>1.5</td>\n",
       "      <td>0.2</td>\n",
       "      <td>Iris-setosa</td>\n",
       "    </tr>\n",
       "    <tr>\n",
       "      <th>4</th>\n",
       "      <td>5.0</td>\n",
       "      <td>3.6</td>\n",
       "      <td>1.4</td>\n",
       "      <td>0.2</td>\n",
       "      <td>Iris-setosa</td>\n",
       "    </tr>\n",
       "  </tbody>\n",
       "</table>\n",
       "</div>"
      ],
      "text/plain": [
       "   SepalLength  SepalWidth  PetalLength  PetalWidth        Class\n",
       "0          5.1         3.5          1.4         0.2  Iris-setosa\n",
       "1          4.9         3.0          1.4         0.2  Iris-setosa\n",
       "2          4.7         3.2          1.3         0.2  Iris-setosa\n",
       "3          4.6         3.1          1.5         0.2  Iris-setosa\n",
       "4          5.0         3.6          1.4         0.2  Iris-setosa"
      ]
     },
     "execution_count": 4,
     "metadata": {},
     "output_type": "execute_result"
    }
   ],
   "source": [
    "iris.head()"
   ]
  },
  {
   "cell_type": "code",
   "execution_count": 16,
   "metadata": {},
   "outputs": [
    {
     "ename": "ValueError",
     "evalue": "labels ['Class'] not contained in axis",
     "output_type": "error",
     "traceback": [
      "\u001b[0;31m---------------------------------------------------------------------------\u001b[0m",
      "\u001b[0;31mValueError\u001b[0m                                Traceback (most recent call last)",
      "\u001b[0;32m<ipython-input-16-ff538536ffbe>\u001b[0m in \u001b[0;36m<module>\u001b[0;34m()\u001b[0m\n\u001b[0;32m----> 1\u001b[0;31m \u001b[0miris\u001b[0m\u001b[0;34m.\u001b[0m\u001b[0mdrop\u001b[0m\u001b[0;34m(\u001b[0m\u001b[0;34m\"Class\"\u001b[0m\u001b[0;34m,\u001b[0m \u001b[0maxis\u001b[0m\u001b[0;34m=\u001b[0m\u001b[0;36m1\u001b[0m\u001b[0;34m,\u001b[0m \u001b[0minplace\u001b[0m\u001b[0;34m=\u001b[0m\u001b[0;32mTrue\u001b[0m\u001b[0;34m)\u001b[0m\u001b[0;34m\u001b[0m\u001b[0m\n\u001b[0m",
      "\u001b[0;32m/usr/local/lib/python3.6/site-packages/pandas/core/generic.py\u001b[0m in \u001b[0;36mdrop\u001b[0;34m(self, labels, axis, index, columns, level, inplace, errors)\u001b[0m\n\u001b[1;32m   2528\u001b[0m         \u001b[0;32mfor\u001b[0m \u001b[0maxis\u001b[0m\u001b[0;34m,\u001b[0m \u001b[0mlabels\u001b[0m \u001b[0;32min\u001b[0m \u001b[0maxes\u001b[0m\u001b[0;34m.\u001b[0m\u001b[0mitems\u001b[0m\u001b[0;34m(\u001b[0m\u001b[0;34m)\u001b[0m\u001b[0;34m:\u001b[0m\u001b[0;34m\u001b[0m\u001b[0m\n\u001b[1;32m   2529\u001b[0m             \u001b[0;32mif\u001b[0m \u001b[0mlabels\u001b[0m \u001b[0;32mis\u001b[0m \u001b[0;32mnot\u001b[0m \u001b[0;32mNone\u001b[0m\u001b[0;34m:\u001b[0m\u001b[0;34m\u001b[0m\u001b[0m\n\u001b[0;32m-> 2530\u001b[0;31m                 \u001b[0mobj\u001b[0m \u001b[0;34m=\u001b[0m \u001b[0mobj\u001b[0m\u001b[0;34m.\u001b[0m\u001b[0m_drop_axis\u001b[0m\u001b[0;34m(\u001b[0m\u001b[0mlabels\u001b[0m\u001b[0;34m,\u001b[0m \u001b[0maxis\u001b[0m\u001b[0;34m,\u001b[0m \u001b[0mlevel\u001b[0m\u001b[0;34m=\u001b[0m\u001b[0mlevel\u001b[0m\u001b[0;34m,\u001b[0m \u001b[0merrors\u001b[0m\u001b[0;34m=\u001b[0m\u001b[0merrors\u001b[0m\u001b[0;34m)\u001b[0m\u001b[0;34m\u001b[0m\u001b[0m\n\u001b[0m\u001b[1;32m   2531\u001b[0m \u001b[0;34m\u001b[0m\u001b[0m\n\u001b[1;32m   2532\u001b[0m         \u001b[0;32mif\u001b[0m \u001b[0minplace\u001b[0m\u001b[0;34m:\u001b[0m\u001b[0;34m\u001b[0m\u001b[0m\n",
      "\u001b[0;32m/usr/local/lib/python3.6/site-packages/pandas/core/generic.py\u001b[0m in \u001b[0;36m_drop_axis\u001b[0;34m(self, labels, axis, level, errors)\u001b[0m\n\u001b[1;32m   2560\u001b[0m                 \u001b[0mnew_axis\u001b[0m \u001b[0;34m=\u001b[0m \u001b[0maxis\u001b[0m\u001b[0;34m.\u001b[0m\u001b[0mdrop\u001b[0m\u001b[0;34m(\u001b[0m\u001b[0mlabels\u001b[0m\u001b[0;34m,\u001b[0m \u001b[0mlevel\u001b[0m\u001b[0;34m=\u001b[0m\u001b[0mlevel\u001b[0m\u001b[0;34m,\u001b[0m \u001b[0merrors\u001b[0m\u001b[0;34m=\u001b[0m\u001b[0merrors\u001b[0m\u001b[0;34m)\u001b[0m\u001b[0;34m\u001b[0m\u001b[0m\n\u001b[1;32m   2561\u001b[0m             \u001b[0;32melse\u001b[0m\u001b[0;34m:\u001b[0m\u001b[0;34m\u001b[0m\u001b[0m\n\u001b[0;32m-> 2562\u001b[0;31m                 \u001b[0mnew_axis\u001b[0m \u001b[0;34m=\u001b[0m \u001b[0maxis\u001b[0m\u001b[0;34m.\u001b[0m\u001b[0mdrop\u001b[0m\u001b[0;34m(\u001b[0m\u001b[0mlabels\u001b[0m\u001b[0;34m,\u001b[0m \u001b[0merrors\u001b[0m\u001b[0;34m=\u001b[0m\u001b[0merrors\u001b[0m\u001b[0;34m)\u001b[0m\u001b[0;34m\u001b[0m\u001b[0m\n\u001b[0m\u001b[1;32m   2563\u001b[0m             \u001b[0mdropped\u001b[0m \u001b[0;34m=\u001b[0m \u001b[0mself\u001b[0m\u001b[0;34m.\u001b[0m\u001b[0mreindex\u001b[0m\u001b[0;34m(\u001b[0m\u001b[0;34m**\u001b[0m\u001b[0;34m{\u001b[0m\u001b[0maxis_name\u001b[0m\u001b[0;34m:\u001b[0m \u001b[0mnew_axis\u001b[0m\u001b[0;34m}\u001b[0m\u001b[0;34m)\u001b[0m\u001b[0;34m\u001b[0m\u001b[0m\n\u001b[1;32m   2564\u001b[0m             \u001b[0;32mtry\u001b[0m\u001b[0;34m:\u001b[0m\u001b[0;34m\u001b[0m\u001b[0m\n",
      "\u001b[0;32m/usr/local/lib/python3.6/site-packages/pandas/core/indexes/base.py\u001b[0m in \u001b[0;36mdrop\u001b[0;34m(self, labels, errors)\u001b[0m\n\u001b[1;32m   3742\u001b[0m             \u001b[0;32mif\u001b[0m \u001b[0merrors\u001b[0m \u001b[0;34m!=\u001b[0m \u001b[0;34m'ignore'\u001b[0m\u001b[0;34m:\u001b[0m\u001b[0;34m\u001b[0m\u001b[0m\n\u001b[1;32m   3743\u001b[0m                 raise ValueError('labels %s not contained in axis' %\n\u001b[0;32m-> 3744\u001b[0;31m                                  labels[mask])\n\u001b[0m\u001b[1;32m   3745\u001b[0m             \u001b[0mindexer\u001b[0m \u001b[0;34m=\u001b[0m \u001b[0mindexer\u001b[0m\u001b[0;34m[\u001b[0m\u001b[0;34m~\u001b[0m\u001b[0mmask\u001b[0m\u001b[0;34m]\u001b[0m\u001b[0;34m\u001b[0m\u001b[0m\n\u001b[1;32m   3746\u001b[0m         \u001b[0;32mreturn\u001b[0m \u001b[0mself\u001b[0m\u001b[0;34m.\u001b[0m\u001b[0mdelete\u001b[0m\u001b[0;34m(\u001b[0m\u001b[0mindexer\u001b[0m\u001b[0;34m)\u001b[0m\u001b[0;34m\u001b[0m\u001b[0m\n",
      "\u001b[0;31mValueError\u001b[0m: labels ['Class'] not contained in axis"
     ]
    }
   ],
   "source": [
    "iris.drop(\"Class\", axis=1, inplace=True)"
   ]
  },
  {
   "cell_type": "code",
   "execution_count": 17,
   "metadata": {},
   "outputs": [
    {
     "data": {
      "text/html": [
       "<div>\n",
       "<style scoped>\n",
       "    .dataframe tbody tr th:only-of-type {\n",
       "        vertical-align: middle;\n",
       "    }\n",
       "\n",
       "    .dataframe tbody tr th {\n",
       "        vertical-align: top;\n",
       "    }\n",
       "\n",
       "    .dataframe thead th {\n",
       "        text-align: right;\n",
       "    }\n",
       "</style>\n",
       "<table border=\"1\" class=\"dataframe\">\n",
       "  <thead>\n",
       "    <tr style=\"text-align: right;\">\n",
       "      <th></th>\n",
       "      <th>SepalLength</th>\n",
       "      <th>SepalWidth</th>\n",
       "      <th>PetalLength</th>\n",
       "      <th>PetalWidth</th>\n",
       "    </tr>\n",
       "  </thead>\n",
       "  <tbody>\n",
       "    <tr>\n",
       "      <th>0</th>\n",
       "      <td>5.1</td>\n",
       "      <td>3.5</td>\n",
       "      <td>1.4</td>\n",
       "      <td>0.2</td>\n",
       "    </tr>\n",
       "    <tr>\n",
       "      <th>1</th>\n",
       "      <td>4.9</td>\n",
       "      <td>3.0</td>\n",
       "      <td>1.4</td>\n",
       "      <td>0.2</td>\n",
       "    </tr>\n",
       "    <tr>\n",
       "      <th>2</th>\n",
       "      <td>4.7</td>\n",
       "      <td>3.2</td>\n",
       "      <td>1.3</td>\n",
       "      <td>0.2</td>\n",
       "    </tr>\n",
       "    <tr>\n",
       "      <th>3</th>\n",
       "      <td>4.6</td>\n",
       "      <td>3.1</td>\n",
       "      <td>1.5</td>\n",
       "      <td>0.2</td>\n",
       "    </tr>\n",
       "    <tr>\n",
       "      <th>4</th>\n",
       "      <td>5.0</td>\n",
       "      <td>3.6</td>\n",
       "      <td>1.4</td>\n",
       "      <td>0.2</td>\n",
       "    </tr>\n",
       "  </tbody>\n",
       "</table>\n",
       "</div>"
      ],
      "text/plain": [
       "   SepalLength  SepalWidth  PetalLength  PetalWidth\n",
       "0          5.1         3.5          1.4         0.2\n",
       "1          4.9         3.0          1.4         0.2\n",
       "2          4.7         3.2          1.3         0.2\n",
       "3          4.6         3.1          1.5         0.2\n",
       "4          5.0         3.6          1.4         0.2"
      ]
     },
     "execution_count": 17,
     "metadata": {},
     "output_type": "execute_result"
    }
   ],
   "source": [
    "iris.head()"
   ]
  },
  {
   "cell_type": "code",
   "execution_count": 10,
   "metadata": {},
   "outputs": [
    {
     "data": {
      "text/html": [
       "<div>\n",
       "<style scoped>\n",
       "    .dataframe tbody tr th:only-of-type {\n",
       "        vertical-align: middle;\n",
       "    }\n",
       "\n",
       "    .dataframe tbody tr th {\n",
       "        vertical-align: top;\n",
       "    }\n",
       "\n",
       "    .dataframe thead th {\n",
       "        text-align: right;\n",
       "    }\n",
       "</style>\n",
       "<table border=\"1\" class=\"dataframe\">\n",
       "  <thead>\n",
       "    <tr style=\"text-align: right;\">\n",
       "      <th></th>\n",
       "      <th>SepalLength</th>\n",
       "      <th>SepalWidth</th>\n",
       "      <th>PetalLength</th>\n",
       "      <th>PetalWidth</th>\n",
       "    </tr>\n",
       "  </thead>\n",
       "  <tbody>\n",
       "    <tr>\n",
       "      <th>0</th>\n",
       "      <td>5.1</td>\n",
       "      <td>3.5</td>\n",
       "      <td>1.4</td>\n",
       "      <td>0.2</td>\n",
       "    </tr>\n",
       "    <tr>\n",
       "      <th>1</th>\n",
       "      <td>4.9</td>\n",
       "      <td>3.0</td>\n",
       "      <td>1.4</td>\n",
       "      <td>0.2</td>\n",
       "    </tr>\n",
       "    <tr>\n",
       "      <th>2</th>\n",
       "      <td>4.7</td>\n",
       "      <td>3.2</td>\n",
       "      <td>1.3</td>\n",
       "      <td>0.2</td>\n",
       "    </tr>\n",
       "    <tr>\n",
       "      <th>3</th>\n",
       "      <td>4.6</td>\n",
       "      <td>3.1</td>\n",
       "      <td>1.5</td>\n",
       "      <td>0.2</td>\n",
       "    </tr>\n",
       "    <tr>\n",
       "      <th>4</th>\n",
       "      <td>5.0</td>\n",
       "      <td>3.6</td>\n",
       "      <td>1.4</td>\n",
       "      <td>0.2</td>\n",
       "    </tr>\n",
       "  </tbody>\n",
       "</table>\n",
       "</div>"
      ],
      "text/plain": [
       "   SepalLength  SepalWidth  PetalLength  PetalWidth\n",
       "0          5.1         3.5          1.4         0.2\n",
       "1          4.9         3.0          1.4         0.2\n",
       "2          4.7         3.2          1.3         0.2\n",
       "3          4.6         3.1          1.5         0.2\n",
       "4          5.0         3.6          1.4         0.2"
      ]
     },
     "execution_count": 10,
     "metadata": {},
     "output_type": "execute_result"
    }
   ],
   "source": [
    "test"
   ]
  },
  {
   "cell_type": "code",
   "execution_count": null,
   "metadata": {},
   "outputs": [],
   "source": []
  }
 ],
 "metadata": {
  "kernelspec": {
   "display_name": "Python 3",
   "language": "python",
   "name": "python3"
  },
  "language_info": {
   "codemirror_mode": {
    "name": "ipython",
    "version": 3
   },
   "file_extension": ".py",
   "mimetype": "text/x-python",
   "name": "python",
   "nbconvert_exporter": "python",
   "pygments_lexer": "ipython3",
   "version": "3.6.5"
  }
 },
 "nbformat": 4,
 "nbformat_minor": 2
}
