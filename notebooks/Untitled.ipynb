{
 "cells": [
  {
   "cell_type": "markdown",
   "metadata": {},
   "source": [
    "Text"
   ]
  },
  {
   "cell_type": "markdown",
   "metadata": {},
   "source": [
    "# Header 1  \n",
    "\n",
    "## Header 2  \n",
    "\n",
    "### Header 3  \n",
    "\n",
    "** bold stuff **  \n",
    "\n",
    "*italic stuff*  \n",
    "\n",
    "[link name](http://www.imadethisup.com)  \n",
    "\n",
    "* bullet 1  \n",
    "\n",
    "    * bullet 2  \n",
    "    \n",
    "        * bullet 3\n",
    "        \n",
    "1. numbered list 1  \n",
    "2. numbered list 2  \n",
    "3. numbered list 3  "
   ]
  },
  {
   "cell_type": "code",
   "execution_count": 3,
   "metadata": {},
   "outputs": [
    {
     "name": "stdout",
     "output_type": "stream",
     "text": [
      "Hello world! Now we're getting fancy!\n"
     ]
    }
   ],
   "source": [
    "print(\"Hello world! Now we're getting fancy!\")"
   ]
  },
  {
   "cell_type": "code",
   "execution_count": 4,
   "metadata": {},
   "outputs": [
    {
     "name": "stdout",
     "output_type": "stream",
     "text": [
      "Data Analysis.ipynb\r\n",
      "File Handling.ipynb\r\n",
      "Flow Control.ipynb\r\n",
      "Functions.ipynb\r\n",
      "Loops.ipynb\r\n",
      "Python Bootcamp - Data Constructs.ipynb\r\n",
      "Python Bootcamp- Data Structures.ipynb\r\n",
      "Python Bootcamp- Dictionaries.ipynb\r\n",
      "Python Bootcamp- Intro.ipynb\r\n",
      "Python Bootcamp- Lists.ipynb\r\n",
      "Python Bootcamp- Math.ipynb\r\n",
      "Python Bootcamp- Strings.ipynb\r\n",
      "Python Bootcamp- Working with objects.ipynb\r\n",
      "Untitled.ipynb\r\n",
      "access_modes.png\r\n",
      "compound_operators.png\r\n",
      "monty_python.jpg\r\n",
      "python_cli.png\r\n",
      "python_ide.png\r\n",
      "string_methods.png\r\n",
      "tale_of_two_cities.txt\r\n"
     ]
    }
   ],
   "source": [
    "%ls"
   ]
  },
  {
   "cell_type": "code",
   "execution_count": null,
   "metadata": {},
   "outputs": [],
   "source": []
  }
 ],
 "metadata": {
  "kernelspec": {
   "display_name": "Python 3",
   "language": "python",
   "name": "python3"
  },
  "language_info": {
   "codemirror_mode": {
    "name": "ipython",
    "version": 3
   },
   "file_extension": ".py",
   "mimetype": "text/x-python",
   "name": "python",
   "nbconvert_exporter": "python",
   "pygments_lexer": "ipython3",
   "version": "3.6.5"
  }
 },
 "nbformat": 4,
 "nbformat_minor": 2
}
