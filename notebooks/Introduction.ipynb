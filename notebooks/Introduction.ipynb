{
 "cells": [
  {
   "cell_type": "markdown",
   "metadata": {},
   "source": [
    "# Welcome!\n",
    "This is going to be a pretty rapid crash course for learning python. While the programming concepts and data structures we'll learn about today are applicable to any programming language, we're going to focus specifically on the python language.\n",
    "\n",
    "## Before we begin\n",
    "Please clone the following github repo.\n",
    "\n",
    "https://github.com/summerela/python_bootcamp2018.git\n",
    "\n",
    "Remember the location where you cloned this repo.\n",
    "\n",
    "## Who am I?\n",
    "- 3 years teaching python at UW\n",
    "- 1 year teaching data science at UW\n",
    "- 10 years in software industry working with R, SQL and Python\n",
    "- Computational biologist using python and data science for cancer research\n",
    "\n",
    "## What will we cover today?\n",
    "\n",
    "### Using Jupyter Notebook\n",
    "- Opening and using\n",
    "- Running code blocks\n",
    "- Ipython magics\n",
    "\n",
    "### Pandas I/O\n",
    "- Reading in Files to Pandas\n",
    "- Reading in URL's to Pandas\n",
    "- Writing data to a file from pandas\n",
    "\n",
    "### Pandas Dataframes\n",
    "- Adding and deleting rows\n",
    "- Adding and deleting coumns\n",
    "- Changing column names\n",
    "\n",
    "### Dataframe Operations\n",
    "- Merge, join, concatenate dataframes\n",
    "- Grouping dataframes\n",
    "\n",
    "### Data Science with pandas\n",
    "- Summary statistics with describe()\n",
    "- Basic mathematical operations\n",
    "- Pandas profiling\n",
    "- Basic graphing with matplotlib\n"
   ]
  }
 ],
 "metadata": {
  "kernelspec": {
   "display_name": "Python 3",
   "language": "python",
   "name": "python3"
  },
  "language_info": {
   "codemirror_mode": {
    "name": "ipython",
    "version": 3
   },
   "file_extension": ".py",
   "mimetype": "text/x-python",
   "name": "python",
   "nbconvert_exporter": "python",
   "pygments_lexer": "ipython3",
   "version": "3.6.5"
  }
 },
 "nbformat": 4,
 "nbformat_minor": 2
}
