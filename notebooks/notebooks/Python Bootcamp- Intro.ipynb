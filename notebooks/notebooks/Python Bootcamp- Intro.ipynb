{
 "cells": [
  {
   "cell_type": "markdown",
   "metadata": {},
   "source": [
    "# Welcome! \n",
    "This is going to be a pretty rapid crash course for learning python. While the programming concepts and data structures we'll learn about today are applicable to any programming language, we're going to focus specifically on the python language. "
   ]
  },
  {
   "cell_type": "markdown",
   "metadata": {},
   "source": [
    "## Before we begin\n",
    "Please clone the following github repo. \n",
    "\n",
    "https://github.com/summerela/python_bootcamp2018.git\n",
    "\n",
    "Remember the location where you cloned this repo.  "
   ]
  },
  {
   "cell_type": "markdown",
   "metadata": {},
   "source": [
    "## Who am I? \n",
    "- 4 years teaching python at UW \n",
    "- 2 year teaching data science and machine learning at UW\n",
    "- 10+ years in software industry working with R, SQL and Python\n",
    "- Computational biologist using python and data science for cancer research"
   ]
  },
  {
   "cell_type": "markdown",
   "metadata": {},
   "source": [
    "## What will we cover today? \n",
    "#### Python Data Constructs (30 minute lecture + 10 minute lab)  \n",
    "- Basic Syntax (Variables, statements, reserved words, line continuation characters)  \n",
    "- Basic math operation   \n",
    "\n",
    "#### Introduction to data structures and flow control (30 minute lecture + 20 minute lab)\n",
    "- Working with strings, lists and dictionaries\n",
    "- Flow control (if, then, else)\n",
    "- File I/O (20 minute lecture, 20 minute lab)\n",
    "- Reading and writing to files and URL's\n",
    "- Writing and running python scripts\n",
    "\n",
    "#### Intro to Functions and Loops (30 minute lecture + take home lab)\n"
   ]
  },
  {
   "cell_type": "markdown",
   "metadata": {},
   "source": [
    "## What will we cover tomorrow in Intro to Pandas? \n",
    "#### Jupyter Notebook \n",
    "- Opening and using\n",
    "- Running code blocks\n",
    "- Ipython magics\n",
    "\n",
    "#### Pandas I/O\n",
    "- Reading in Files to Pandas\n",
    "- Reading in URL's to Pandas\n",
    "- Writing data to a file from pandas\n",
    "\n",
    "#### Pandas Dataframes\n",
    "- Creating a dataframe\n",
    "- Adding and deleting rows\n",
    "- Adding and deleting coumns\n",
    "- Changing column names\n",
    "\n",
    "#### Dataframe Operations\n",
    "- Merge, join, concatenate dataframes\n",
    "- Grouping dataframes\n",
    "\n",
    "#### Data Science with pandas\n",
    "- Summary statistics with describe()\n",
    "- Basic mathematical operations\n",
    "- Pandas profiling\n",
    "- Basic graphing with matplotlib"
   ]
  },
  {
   "cell_type": "markdown",
   "metadata": {},
   "source": [
    "<img src=\"monty_python.jpg\" height=\"300\" width=\"300\" align=\"left\">"
   ]
  },
  {
   "cell_type": "markdown",
   "metadata": {},
   "source": [
    "## Why Python? \n",
    "- It's named after Monty Python... what more could you want?\n",
    "- Fastest growing programming language for business, data science and research\n",
    "- Been around since 1991\n",
    "- Open source (=free!!)\n",
    "- Platform agnostic\n",
    "- Powerful\n",
    "- Frequently updated\n",
    "- Used in a variety of real-world professions\n",
    "- Easy, clear syntax\n",
    "- Supportive community to help you learn"
   ]
  }
 ],
 "metadata": {
  "kernelspec": {
   "display_name": "Python 3",
   "language": "python",
   "name": "python3"
  },
  "language_info": {
   "codemirror_mode": {
    "name": "ipython",
    "version": 3
   },
   "file_extension": ".py",
   "mimetype": "text/x-python",
   "name": "python",
   "nbconvert_exporter": "python",
   "pygments_lexer": "ipython3",
   "version": "3.6.5"
  }
 },
 "nbformat": 4,
 "nbformat_minor": 2
}
