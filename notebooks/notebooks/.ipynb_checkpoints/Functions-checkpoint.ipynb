{
 "cells": [
  {
   "cell_type": "markdown",
   "metadata": {},
   "source": [
    "# Functions\n",
    "A function is a block of organized, reusable code that is used to perform a single, related action. \n",
    "\n",
    "Functions provide better modularity for your application and allow you easily troubleshoot complicated operations.  \n",
    "\n",
    "We've already been using functions because they're so useful!  We use functions by typing the name, parentheses, and then putting any arguments inside the parentheses.mm"
   ]
  },
  {
   "cell_type": "code",
   "execution_count": 1,
   "metadata": {},
   "outputs": [
    {
     "name": "stdout",
     "output_type": "stream",
     "text": [
      "Hello world\n"
     ]
    }
   ],
   "source": [
    "print(\"Hello world\")"
   ]
  },
  {
   "cell_type": "markdown",
   "metadata": {},
   "source": [
    "Python has many other [built in functions](https://docs.python.org/3/library/functions.html) that are very useful. \n",
    "\n",
    "You'll often use:\n",
    "- input()\n",
    "- len()\n",
    "- max()\n",
    "- min()\n",
    "- sum() "
   ]
  },
  {
   "cell_type": "markdown",
   "metadata": {},
   "source": [
    "## Create your own Function\n",
    "You can also create your own functions!  There are a few simple rules:\n",
    "\n",
    "First you must tell python that you want to define a function.  Thus, the function block begin with the keyword def.\n",
    "\n",
    " "
   ]
  },
  {
   "cell_type": "raw",
   "metadata": {},
   "source": [
    "def"
   ]
  },
  {
   "cell_type": "markdown",
   "metadata": {},
   "source": [
    "Then we must tell python what we want to call the function:"
   ]
  },
  {
   "cell_type": "raw",
   "metadata": {},
   "source": [
    "def my_first_function"
   ]
  },
  {
   "cell_type": "markdown",
   "metadata": {},
   "source": [
    "We tell python that it is a function by ending the name with parentheses and a semicolon, anything that comes after this is what we want the function to do. "
   ]
  },
  {
   "cell_type": "raw",
   "metadata": {},
   "source": [
    "def my_first_function(): "
   ]
  },
  {
   "cell_type": "markdown",
   "metadata": {},
   "source": [
    "Finally, we tell python what the function should do.  When starting, this can be as simple as using a pass statement that tells python to do nothing at all.  "
   ]
  },
  {
   "cell_type": "code",
   "execution_count": 3,
   "metadata": {},
   "outputs": [],
   "source": [
    "def my_first_function():\n",
    "    pass"
   ]
  },
  {
   "cell_type": "markdown",
   "metadata": {},
   "source": [
    "## Python Spacing\n",
    "You might have noticed that the pass statement is indented four spaces. In python, spaces matter! \n",
    "\n",
    "Python breaks up code blocks using spaces. Think of it like a programmatic form of an outine with roman numerals. Instead of roman numerals, we organize our python code by using spaces. \n",
    "\n",
    "Here's an example python script to show you how this works: "
   ]
  },
  {
   "cell_type": "code",
   "execution_count": 6,
   "metadata": {},
   "outputs": [
    {
     "name": "stdout",
     "output_type": "stream",
     "text": [
      "Hello Steve, you're a young looking 21\n"
     ]
    }
   ],
   "source": [
    "#!/usr/bin/env python\n",
    "\n",
    "'''\n",
    "Here's a sample python program\n",
    "'''\n",
    "\n",
    "# all first level things should be left aligned\n",
    "user_name = \"Steve\"\n",
    "user_age = 21\n",
    "\n",
    "# here's a function\n",
    "def say_howdy(user, age):\n",
    "    \n",
    "    # all code indented four spaces is part of the say_howdy function\n",
    "    print(\"Hello {}, you're a young looking {}\".format(user, age))\n",
    "    \n",
    "# this code is no longer part of the function\n",
    "say_howdy(user_name, user_age)"
   ]
  },
  {
   "cell_type": "markdown",
   "metadata": {},
   "source": [
    "## Arguments\n",
    "In the say_howdy() function above, you can see in the parenthesis that it requires two arugments to work, user and age. "
   ]
  },
  {
   "cell_type": "code",
   "execution_count": 7,
   "metadata": {},
   "outputs": [],
   "source": [
    "def say_howdy(user, age):\n",
    "    print(\"Hello {}, you're a young looking {}\".format(user, age))"
   ]
  },
  {
   "cell_type": "markdown",
   "metadata": {},
   "source": [
    "This means that when we call (use) a function, we must provide it a value for user, and a value for age, otherwise we'll get an error. "
   ]
  },
  {
   "cell_type": "code",
   "execution_count": 8,
   "metadata": {},
   "outputs": [
    {
     "ename": "TypeError",
     "evalue": "say_howdy() missing 2 required positional arguments: 'user' and 'age'",
     "output_type": "error",
     "traceback": [
      "\u001b[0;31m---------------------------------------------------------------------------\u001b[0m",
      "\u001b[0;31mTypeError\u001b[0m                                 Traceback (most recent call last)",
      "\u001b[0;32m<ipython-input-8-78997461b0dd>\u001b[0m in \u001b[0;36m<module>\u001b[0;34m()\u001b[0m\n\u001b[0;32m----> 1\u001b[0;31m \u001b[0msay_howdy\u001b[0m\u001b[0;34m(\u001b[0m\u001b[0;34m)\u001b[0m\u001b[0;34m\u001b[0m\u001b[0m\n\u001b[0m",
      "\u001b[0;31mTypeError\u001b[0m: say_howdy() missing 2 required positional arguments: 'user' and 'age'"
     ]
    }
   ],
   "source": [
    "say_howdy()"
   ]
  },
  {
   "cell_type": "markdown",
   "metadata": {},
   "source": [
    "This means that we need to pass it \"arguments\", or values for the placeholders \"user\" and \"age\". \n",
    "\n",
    "The values we give to user and age will appear in place of wherever those variables are used in functions: "
   ]
  },
  {
   "cell_type": "code",
   "execution_count": 9,
   "metadata": {},
   "outputs": [
    {
     "name": "stdout",
     "output_type": "stream",
     "text": [
      "Hello Summer, you're a young looking 32\n"
     ]
    }
   ],
   "source": [
    "say_howdy(user=\"Summer\", age=32)"
   ]
  },
  {
   "cell_type": "code",
   "execution_count": 11,
   "metadata": {},
   "outputs": [
    {
     "name": "stdout",
     "output_type": "stream",
     "text": [
      "Hello Vampire Lestat, you're a young looking 957\n"
     ]
    }
   ],
   "source": [
    "say_howdy(user=\"Vampire Lestat\", age=957)"
   ]
  },
  {
   "cell_type": "markdown",
   "metadata": {},
   "source": [
    "We can also skip using the argument names (called positional arguments) as long as we keep things in the right order: "
   ]
  },
  {
   "cell_type": "code",
   "execution_count": 13,
   "metadata": {},
   "outputs": [
    {
     "name": "stdout",
     "output_type": "stream",
     "text": [
      "Hello Your Mom, you're a young looking 99\n"
     ]
    }
   ],
   "source": [
    "say_howdy(\"Your Mom\", 99)"
   ]
  },
  {
   "cell_type": "code",
   "execution_count": null,
   "metadata": {},
   "outputs": [],
   "source": []
  }
 ],
 "metadata": {
  "kernelspec": {
   "display_name": "Python 3",
   "language": "python",
   "name": "python3"
  },
  "language_info": {
   "codemirror_mode": {
    "name": "ipython",
    "version": 3
   },
   "file_extension": ".py",
   "mimetype": "text/x-python",
   "name": "python",
   "nbconvert_exporter": "python",
   "pygments_lexer": "ipython3",
   "version": "3.6.5"
  }
 },
 "nbformat": 4,
 "nbformat_minor": 2
}
