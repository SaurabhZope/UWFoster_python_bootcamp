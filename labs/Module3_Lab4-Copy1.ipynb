{
 "cells": [
  {
   "cell_type": "markdown",
   "metadata": {},
   "source": [
    "## Handle Missing Values"
   ]
  },
  {
   "cell_type": "markdown",
   "metadata": {},
   "source": [
    "### Introduce Missing Values"
   ]
  },
  {
   "cell_type": "code",
   "execution_count": null,
   "metadata": {},
   "outputs": [],
   "source": [
    "from sklearn import datasets\n",
    "import pandas as pd\n",
    "import numpy as np\n",
    "%matplotlib inline\n",
    "# import some data to play with\n",
    "iris = datasets.load_iris()\n",
    "X = pd.DataFrame(iris.data)\n",
    "X.columns = [\"SEPAL_LENGTH\", \"SEPAL_WIDTH\", \"PETAL_LENGTH\", \"PETAL_WIDTH\"]\n",
    "X_incomplete = X.copy()\n",
    "X_incomplete.loc[150] = [np.NaN, np.NaN, np.NaN, np.NaN]\n",
    "\n",
    "X_incomplete.tail()"
   ]
  },
  {
   "cell_type": "markdown",
   "metadata": {},
   "source": [
    "### Remove Rows with Missing Values"
   ]
  },
  {
   "cell_type": "code",
   "execution_count": null,
   "metadata": {},
   "outputs": [],
   "source": [
    "X_incomplete1 = X_incomplete.copy()\n",
    "X_incomplete1.dropna(inplace=True)\n",
    "X_incomplete1.tail()"
   ]
  },
  {
   "cell_type": "markdown",
   "metadata": {},
   "source": [
    "### Imputation: Replace Missing Values with Mean"
   ]
  },
  {
   "cell_type": "code",
   "execution_count": null,
   "metadata": {},
   "outputs": [],
   "source": [
    "X_incomplete1 = X_incomplete.copy()\n",
    "X_incomplete1.fillna(X_incomplete1.mean(), inplace=True)\n",
    "# count the number of NaN values in each column\n",
    "X_incomplete1.tail()"
   ]
  },
  {
   "cell_type": "markdown",
   "metadata": {},
   "source": [
    "### Imputation: Use Scikit-Learn Preprocessing"
   ]
  },
  {
   "cell_type": "code",
   "execution_count": null,
   "metadata": {},
   "outputs": [],
   "source": [
    "X_incomplete1 = X_incomplete.copy()\n",
    "from sklearn.preprocessing import Imputer\n",
    "imputer = Imputer(strategy=\"median\") #default is mean\n",
    "transformed_values = pd.DataFrame(imputer.fit_transform(X_incomplete1))\n",
    "transformed_values.tail()"
   ]
  },
  {
   "cell_type": "markdown",
   "metadata": {},
   "source": [
    "## Handle Outliers"
   ]
  },
  {
   "cell_type": "markdown",
   "metadata": {},
   "source": [
    "### Winsorize"
   ]
  },
  {
   "cell_type": "code",
   "execution_count": null,
   "metadata": {},
   "outputs": [],
   "source": [
    "X = [92,19,101,58,1053,91,26,78,10,13,-40,101,86,85,15,89,89,28,-5,41]\n",
    "print(\"mean=%.2f\"%np.mean(X))\n",
    "from scipy.stats import mstats\n",
    "X1 = mstats.winsorize(X, limits=0.05, inplace=True) #It is thresholding at 5th and 95th percentiles\n",
    "print(X1)\n",
    "print(\"After winsorizing, mean=%.2f\"%np.mean(X1))"
   ]
  },
  {
   "cell_type": "markdown",
   "metadata": {},
   "source": [
    "### Statistics Robust to Outliers"
   ]
  },
  {
   "cell_type": "code",
   "execution_count": null,
   "metadata": {},
   "outputs": [],
   "source": [
    "mu, sigma = 0, 2 # mean and standard deviation\n",
    "s = np.random.normal(mu, sigma, 1000)\n",
    "import matplotlib.pyplot as plt\n",
    "count, bins, ignored = plt.hist(s, 30, normed=True)\n",
    "plt.plot(bins, 1/(sigma * np.sqrt(2 * np.pi)) * np.exp( - (bins - mu)**2 / (2 * sigma**2) ), linewidth=2, color='r')\n",
    "plt.show()\n",
    "print(\"mean=%.2f, sd=%.2f\"%(np.mean(s), np.std(s)))\n",
    "\n",
    "# Introduce an outlier\n",
    "s[983] = 200\n",
    "print(\"with outlier, mean=%.2f, sd=%.2f\"%(np.mean(s), np.std(s)))\n",
    "\n",
    "from statsmodels import robust\n",
    "print(\"with outlier, median=%.2f, sd=%.2f\"%(np.median(s), 1.4826*robust.mad(s)))"
   ]
  },
  {
   "cell_type": "code",
   "execution_count": null,
   "metadata": {},
   "outputs": [],
   "source": [
    "from statsmodels import robust"
   ]
  },
  {
   "cell_type": "markdown",
   "metadata": {},
   "source": [
    "## Binning and Scaling"
   ]
  },
  {
   "cell_type": "markdown",
   "metadata": {},
   "source": [
    "### Binning the Continuous Variable into Bins"
   ]
  },
  {
   "cell_type": "code",
   "execution_count": null,
   "metadata": {},
   "outputs": [],
   "source": [
    "import numpy as np\n",
    "bins = np.linspace(15,70,12)\n",
    "print(bins)\n",
    "age_binned = pd.cut(c.iloc[:,0], bins, right=True, labels=range(11))\n",
    "print(\"Original value=%d, bin label=%d\"%(c.iloc[10,0], age_binned[10]))\n",
    "print(\"Original value=%d, bin label=%d\"%(c.iloc[31,0], age_binned[31]))"
   ]
  },
  {
   "cell_type": "markdown",
   "metadata": {},
   "source": [
    "### z-transaction"
   ]
  },
  {
   "cell_type": "code",
   "execution_count": null,
   "metadata": {},
   "outputs": [],
   "source": [
    "from sklearn import preprocessing\n",
    "data_z = data.copy()\n",
    "data_z.iloc[:,[0,3,5]] = preprocessing.scale(data_z.iloc[:,[0,3,5]])\n",
    "data_z.describe()"
   ]
  },
  {
   "cell_type": "markdown",
   "metadata": {},
   "source": [
    "### Scale to between 0 and 1"
   ]
  },
  {
   "cell_type": "code",
   "execution_count": null,
   "metadata": {},
   "outputs": [],
   "source": [
    "min_max_scaler = preprocessing.MinMaxScaler()\n",
    "data_minmax = data.copy()\n",
    "data_minmax.iloc[:,[0,3,5]] = min_max_scaler.fit_transform(data_minmax.iloc[:,[0,3,5]])\n",
    "data_minmax.describe()"
   ]
  },
  {
   "cell_type": "code",
   "execution_count": null,
   "metadata": {},
   "outputs": [],
   "source": [
    "data.head()"
   ]
  },
  {
   "cell_type": "markdown",
   "metadata": {},
   "source": [
    "## Handle Time Stamps"
   ]
  },
  {
   "cell_type": "markdown",
   "metadata": {},
   "source": [
    "### TimeStamps in Strings"
   ]
  },
  {
   "cell_type": "code",
   "execution_count": null,
   "metadata": {},
   "outputs": [],
   "source": [
    "datestring = \"2017/11/06 19:00:13\" # A Monday\n",
    "from datetime import datetime\n",
    "\n",
    "datetime_object = datetime.strptime(datestring, '%Y/%m/%d %H:%M:%S')\n",
    "print(\"Year=%d\"%datetime_object.year)\n",
    "print(\"Month=%d\"%datetime_object.month)\n",
    "print(\"Day of Month=%d\"%datetime_object.day)\n",
    "print(\"Weekday=%d\"%datetime_object.weekday())\n",
    "print(\"Week Number=%s\"%datetime_object.strftime(\"%U\"))\n",
    "print(\"Hour=%d\"%datetime_object.hour)\n",
    "print(\"Minute=%d\"%datetime_object.minute)"
   ]
  },
  {
   "cell_type": "markdown",
   "metadata": {},
   "source": [
    "### Handle Unix Time Stamp"
   ]
  },
  {
   "cell_type": "code",
   "execution_count": null,
   "metadata": {},
   "outputs": [],
   "source": [
    "ts = 1352068320\n",
    "datetime_object = datetime.fromtimestamp(ts)\n",
    "print(datetime_object)\n",
    "print(\"Year=%d\"%datetime_object.year)\n",
    "print(\"Month=%d\"%datetime_object.month)\n",
    "print(\"Day of Month=%d\"%datetime_object.day)\n",
    "print(\"Weekday=%d\"%datetime_object.weekday())\n",
    "print(\"Week Number=%s\"%datetime_object.strftime(\"%U\"))\n",
    "print(\"Hour=%d\"%datetime_object.hour)\n",
    "print(\"Minute=%d\"%datetime_object.minute)"
   ]
  }
 ],
 "metadata": {
  "anaconda-cloud": {},
  "kernelspec": {
   "display_name": "Python 3",
   "language": "python",
   "name": "python3"
  },
  "language_info": {
   "codemirror_mode": {
    "name": "ipython",
    "version": 3
   },
   "file_extension": ".py",
   "mimetype": "text/x-python",
   "name": "python",
   "nbconvert_exporter": "python",
   "pygments_lexer": "ipython3",
   "version": "3.6.5"
  }
 },
 "nbformat": 4,
 "nbformat_minor": 1
}
